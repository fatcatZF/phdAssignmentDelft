{
 "cells": [
  {
   "cell_type": "code",
   "execution_count": 26,
   "id": "414b86ae",
   "metadata": {},
   "outputs": [],
   "source": [
    "import numpy as np\n",
    "from collections import deque\n",
    "\n",
    "import random\n",
    "\n",
    "import numpy as np\n",
    "\n",
    "import torch\n",
    "import torch.nn as nn\n",
    "import torch.nn.functional as F\n",
    "import torch.optim as optim\n",
    "from torch.distributions import Categorical\n",
    "\n",
    "from models import *\n",
    "\n",
    "import matplotlib.pyplot as plt"
   ]
  },
  {
   "cell_type": "code",
   "execution_count": 11,
   "id": "dcc2d99a",
   "metadata": {},
   "outputs": [
    {
     "name": "stdout",
     "output_type": "stream",
     "text": [
      "PhD in Traffic Management - Assignment copy.ipynb\r\n",
      "PhD in Traffic Management - Assignment.ipynb\r\n",
      "Test.ipynb\r\n",
      "\u001b[34m__pycache__\u001b[m\u001b[m\r\n",
      "control_helpers.py\r\n",
      "\u001b[34mfiles_e3\u001b[m\u001b[m\r\n",
      "helpers.py\r\n",
      "\u001b[34mlogs\u001b[m\u001b[m\r\n",
      "models.py\r\n",
      "network.png\r\n",
      "train_baselineReduction.py\r\n",
      "train_deepQ.py\r\n",
      "train_reinforce.py\r\n"
     ]
    }
   ],
   "source": [
    "!ls"
   ]
  },
  {
   "cell_type": "code",
   "execution_count": 19,
   "id": "76e6050f",
   "metadata": {},
   "outputs": [
    {
     "data": {
      "text/plain": [
       "deque([2, 3, 4, 5, 6, 7])"
      ]
     },
     "execution_count": 19,
     "metadata": {},
     "output_type": "execute_result"
    }
   ],
   "source": [
    "a = deque([0,1,2], maxlen=6)\n",
    "a.extend([3,4,5,6,7])\n",
    "a"
   ]
  },
  {
   "cell_type": "code",
   "execution_count": null,
   "id": "14d627be",
   "metadata": {},
   "outputs": [],
   "source": []
  },
  {
   "cell_type": "code",
   "execution_count": 29,
   "id": "3fb5e2c4",
   "metadata": {},
   "outputs": [
    {
     "data": {
      "text/plain": [
       "0"
      ]
     },
     "execution_count": 29,
     "metadata": {},
     "output_type": "execute_result"
    }
   ],
   "source": [
    "Q = torch.tensor([[0.8, 0.4, 0.55]])\n",
    "action = torch.argmax(Q, dim=-1)\n",
    "action.item()"
   ]
  },
  {
   "cell_type": "code",
   "execution_count": null,
   "id": "9ba548ab",
   "metadata": {},
   "outputs": [],
   "source": []
  },
  {
   "cell_type": "code",
   "execution_count": null,
   "id": "18e78306",
   "metadata": {},
   "outputs": [],
   "source": []
  },
  {
   "cell_type": "code",
   "execution_count": 22,
   "id": "ffce4345",
   "metadata": {},
   "outputs": [],
   "source": [
    "class ReplayBuffer():\n",
    "    \"\"\"Replay Buffer stores the last N transitions\"\"\"\n",
    "    def __init__(self, max_size=30000, batch_size=64):\n",
    "        \"\"\"\n",
    "        args:\n",
    "            max_size: the maximal number of stored transitions\n",
    "            batch_size: the number of transitions returned \n",
    "                in a minibatch\n",
    "        \"\"\"\n",
    "        self.max_size = max_size\n",
    "        self.batch_size = batch_size\n",
    "        self.states = deque([], maxlen=max_size)\n",
    "        self.actions = deque([], maxlen=max_size)\n",
    "        self.next_states = deque([], maxlen=max_size)\n",
    "        self.rewards = deque([], maxlen=max_size)\n",
    "        self.is_dones = deque([], maxlen=max_size)\n",
    "        self.indices = [None]*batch_size\n",
    "        \n",
    "    def add_experience(self, states, actions, next_states, rewards, is_dones):\n",
    "        self.states.extend(states)\n",
    "        self.actions.extend(actions)\n",
    "        self.next_states.extend(next_states)\n",
    "        self.rewards.extend(rewards)\n",
    "        self.is_dones.extend(is_dones)\n",
    "        \n",
    "    \n",
    "    def get_valid_indices(self):\n",
    "        experience_size = len(self.states)\n",
    "        for i in range(self.batch_size):\n",
    "            index = random.randint(0, experience_size-1)\n",
    "            self.indices[i] = index\n",
    "            \n",
    "    def get_minibatch(self):\n",
    "        \"\"\"\n",
    "        Return a minibatch\n",
    "        \"\"\"\n",
    "        batch = []\n",
    "        self.get_valid_indices()\n",
    "        \n",
    "        for idx in self.indices:\n",
    "            state = self.states[idx]\n",
    "            action = self.actions[idx]\n",
    "            next_state = self.next_states[idx]\n",
    "            reward = self.rewards[idx]\n",
    "            is_done = self.is_dones[idx]\n",
    "            \n",
    "            batch.append((state, action, next_state, reward, is_done))\n",
    "            \n",
    "        return batch"
   ]
  },
  {
   "cell_type": "code",
   "execution_count": 37,
   "id": "4aef972d",
   "metadata": {},
   "outputs": [
    {
     "data": {
      "text/plain": [
       "5"
      ]
     },
     "execution_count": 37,
     "metadata": {},
     "output_type": "execute_result"
    }
   ],
   "source": [
    "random.randint(0,18)"
   ]
  },
  {
   "cell_type": "code",
   "execution_count": 38,
   "id": "9c36648d",
   "metadata": {},
   "outputs": [
    {
     "data": {
      "text/plain": [
       "[False, False, False, False, False]"
      ]
     },
     "execution_count": 38,
     "metadata": {},
     "output_type": "execute_result"
    }
   ],
   "source": [
    "is_dones = [False]*5\n",
    "is_dones"
   ]
  },
  {
   "cell_type": "code",
   "execution_count": 39,
   "id": "39e0448b",
   "metadata": {},
   "outputs": [
    {
     "data": {
      "text/plain": [
       "[False, False, False, False, True]"
      ]
     },
     "execution_count": 39,
     "metadata": {},
     "output_type": "execute_result"
    }
   ],
   "source": [
    "is_dones[-1] = True\n",
    "is_dones"
   ]
  },
  {
   "cell_type": "code",
   "execution_count": null,
   "id": "f3d9bfef",
   "metadata": {},
   "outputs": [],
   "source": []
  },
  {
   "cell_type": "code",
   "execution_count": 42,
   "id": "a7b1de0e",
   "metadata": {},
   "outputs": [],
   "source": [
    "import struct\n",
    "def binary(num):\n",
    "    s = ''.join('{:0>8b}'.format(c) for c in struct.pack('!f', num))\n",
    "    return [int(a) for a in s]"
   ]
  },
  {
   "cell_type": "code",
   "execution_count": 40,
   "id": "cec03eee",
   "metadata": {},
   "outputs": [],
   "source": [
    "a = np.array(binary(18.9))\n",
    "a = a.reshape((8,4))"
   ]
  },
  {
   "cell_type": "code",
   "execution_count": 41,
   "id": "5d842b89",
   "metadata": {},
   "outputs": [
    {
     "data": {
      "text/plain": [
       "<matplotlib.image.AxesImage at 0x7faf1e2f5a60>"
      ]
     },
     "execution_count": 41,
     "metadata": {},
     "output_type": "execute_result"
    },
    {
     "data": {
      "image/png": "[encoded data removed]",
      "text/plain": [
       "<Figure size 640x480 with 1 Axes>"
      ]
     },
     "metadata": {},
     "output_type": "display_data"
    }
   ],
   "source": [
    "plt.imshow(a)"
   ]
  },
  {
   "cell_type": "code",
   "execution_count": null,
   "id": "6d38d7d2",
   "metadata": {},
   "outputs": [],
   "source": []
  }
 ],
 "metadata": {
  "kernelspec": {
   "display_name": "Python 3 (ipykernel)",
   "language": "python",
   "name": "python3"
  },
  "language_info": {
   "codemirror_mode": {
    "name": "ipython",
    "version": 3
   },
   "file_extension": ".py",
   "mimetype": "text/x-python",
   "name": "python",
   "nbconvert_exporter": "python",
   "pygments_lexer": "ipython3",
   "version": "3.8.13"
  }
 },
 "nbformat": 4,
 "nbformat_minor": 5
}
